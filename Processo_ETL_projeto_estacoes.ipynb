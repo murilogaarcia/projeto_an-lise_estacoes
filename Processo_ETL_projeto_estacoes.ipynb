{
 "cells": [
  {
   "cell_type": "markdown",
   "metadata": {},
   "source": [
    "PROJETO GESTÃO E ANÁLISE DE ESTAÇÕES DE CARREGAMENTO DE CARROS ELÉTRICOS:\n",
    "\n",
    "O projeto consiste em importar, tratar e analisar dados de estações elétricas e veículos, com visualizações em Power BI.\n",
    "Etapas:\n",
    "\n",
    "1-Importação: carregar dados do Excel para Python.\n",
    "\n",
    "2-Tratamento: limpar nulos, padronizar colunas e tipos.\n",
    "\n",
    "3-SQL: criar tabelas e inserir dados mantendo integridade.\n",
    "\n",
    "3-Análise: consultas SQL para insights.\n",
    "\n",
    "4-Dashboard: criar visualizações interativas no Power BI."
   ]
  },
  {
   "cell_type": "code",
   "execution_count": null,
   "metadata": {},
   "outputs": [],
   "source": [
    "#BIBLIOTECAS NECESSARIAS:\n",
    "\"\"\" pip install pandas\n",
    "pip install --upgrade pandas\n",
    "pip install pyodbc \"\"\""
   ]
  },
  {
   "cell_type": "code",
   "execution_count": 130,
   "metadata": {},
   "outputs": [],
   "source": [
    "#IMPORTANDO BIBLIOTECAS\n",
    "import pandas as pd\n",
    "import pyodbc "
   ]
  },
  {
   "cell_type": "markdown",
   "metadata": {},
   "source": [
    "IMPORTANDO ARQUIVOS EXCEL PARA O VSCODE E TRANSFORMANDO EM DATAFRAMES"
   ]
  },
  {
   "cell_type": "code",
   "execution_count": 131,
   "metadata": {},
   "outputs": [],
   "source": [
    "df_estacoes=pd.read_excel(r\"C:\\Users\\muril\\Downloads\\Arquivos_Base_estacoes_eletricas\\arquivos_base_estacoes\\charging_stations_2025_world.xlsx\")\n",
    "df_paises_infos=pd.read_excel(r\"C:\\Users\\muril\\Downloads\\Arquivos_Base_estacoes_eletricas\\arquivos_base_estacoes\\country_summary_2025.xlsx\")\n",
    "df_veiculo=pd.read_excel(r\"C:\\Users\\muril\\Downloads\\Arquivos_Base_estacoes_eletricas\\arquivos_base_estacoes\\ev_models_2025.xlsx\")\n",
    "df_paises=pd.read_excel(r\"C:\\Users\\muril\\Downloads\\Arquivos_Base_estacoes_eletricas\\arquivos_base_estacoes\\world_summary_2025.xlsx\")"
   ]
  },
  {
   "cell_type": "code",
   "execution_count": 146,
   "metadata": {},
   "outputs": [
    {
     "data": {
      "text/html": [
       "<div>\n",
       "<style scoped>\n",
       "    .dataframe tbody tr th:only-of-type {\n",
       "        vertical-align: middle;\n",
       "    }\n",
       "\n",
       "    .dataframe tbody tr th {\n",
       "        vertical-align: top;\n",
       "    }\n",
       "\n",
       "    .dataframe thead th {\n",
       "        text-align: right;\n",
       "    }\n",
       "</style>\n",
       "<table border=\"1\" class=\"dataframe\">\n",
       "  <thead>\n",
       "    <tr style=\"text-align: right;\">\n",
       "      <th></th>\n",
       "      <th>id_estacao</th>\n",
       "      <th>nome_local</th>\n",
       "      <th>cidade</th>\n",
       "      <th>sigla</th>\n",
       "      <th>estado</th>\n",
       "      <th>latitude</th>\n",
       "      <th>longitude</th>\n",
       "      <th>qtd_portas</th>\n",
       "      <th>potencia</th>\n",
       "      <th>potencia_categoria</th>\n",
       "      <th>carregamento_rapido</th>\n",
       "      <th>id</th>\n",
       "    </tr>\n",
       "  </thead>\n",
       "  <tbody>\n",
       "    <tr>\n",
       "      <th>0</th>\n",
       "      <td>307660</td>\n",
       "      <td>Av. de Tarragona</td>\n",
       "      <td>Andorra</td>\n",
       "      <td>AD</td>\n",
       "      <td>NaN</td>\n",
       "      <td>42505254.0</td>\n",
       "      <td>1528861.0</td>\n",
       "      <td>10.0</td>\n",
       "      <td>300.0</td>\n",
       "      <td>DC_ULTRA_(&gt;=150kW)</td>\n",
       "      <td>Carregamento rapido</td>\n",
       "      <td>53</td>\n",
       "    </tr>\n",
       "    <tr>\n",
       "      <th>1</th>\n",
       "      <td>301207</td>\n",
       "      <td>Parquing Costa Rodona</td>\n",
       "      <td>Encamp</td>\n",
       "      <td>AD</td>\n",
       "      <td>NaN</td>\n",
       "      <td>42537213.0</td>\n",
       "      <td>1727014.0</td>\n",
       "      <td>10.0</td>\n",
       "      <td>22.0</td>\n",
       "      <td>AC_HIGH_(22-49kW)</td>\n",
       "      <td>Carregamento lento</td>\n",
       "      <td>53</td>\n",
       "    </tr>\n",
       "    <tr>\n",
       "      <th>2</th>\n",
       "      <td>301206</td>\n",
       "      <td>Hotel Naudi</td>\n",
       "      <td>NaN</td>\n",
       "      <td>AD</td>\n",
       "      <td>NaN</td>\n",
       "      <td>42576811.0</td>\n",
       "      <td>1666061.0</td>\n",
       "      <td>1.0</td>\n",
       "      <td>11.0</td>\n",
       "      <td>AC_L2_(7.5-21kW)</td>\n",
       "      <td>Carregamento lento</td>\n",
       "      <td>53</td>\n",
       "    </tr>\n",
       "    <tr>\n",
       "      <th>3</th>\n",
       "      <td>301205</td>\n",
       "      <td>Hotel Piolets Soldeu Centre</td>\n",
       "      <td>NaN</td>\n",
       "      <td>AD</td>\n",
       "      <td>NaN</td>\n",
       "      <td>42576466.0</td>\n",
       "      <td>1667317.0</td>\n",
       "      <td>1.0</td>\n",
       "      <td>22.0</td>\n",
       "      <td>AC_HIGH_(22-49kW)</td>\n",
       "      <td>Carregamento lento</td>\n",
       "      <td>53</td>\n",
       "    </tr>\n",
       "  </tbody>\n",
       "</table>\n",
       "</div>"
      ],
      "text/plain": [
       "   id_estacao                   nome_local   cidade sigla estado    latitude  \\\n",
       "0      307660             Av. de Tarragona  Andorra    AD    NaN  42505254.0   \n",
       "1      301207        Parquing Costa Rodona   Encamp    AD    NaN  42537213.0   \n",
       "2      301206                  Hotel Naudi      NaN    AD    NaN  42576811.0   \n",
       "3      301205  Hotel Piolets Soldeu Centre      NaN    AD    NaN  42576466.0   \n",
       "\n",
       "   longitude  qtd_portas  potencia  potencia_categoria  carregamento_rapido  \\\n",
       "0  1528861.0        10.0     300.0  DC_ULTRA_(>=150kW)  Carregamento rapido   \n",
       "1  1727014.0        10.0      22.0   AC_HIGH_(22-49kW)   Carregamento lento   \n",
       "2  1666061.0         1.0      11.0    AC_L2_(7.5-21kW)   Carregamento lento   \n",
       "3  1667317.0         1.0      22.0   AC_HIGH_(22-49kW)   Carregamento lento   \n",
       "\n",
       "   id  \n",
       "0  53  \n",
       "1  53  \n",
       "2  53  \n",
       "3  53  "
      ]
     },
     "execution_count": 146,
     "metadata": {},
     "output_type": "execute_result"
    }
   ],
   "source": [
    "df_estacoes.head(4)"
   ]
  },
  {
   "cell_type": "code",
   "execution_count": 147,
   "metadata": {},
   "outputs": [
    {
     "data": {
      "text/html": [
       "<div>\n",
       "<style scoped>\n",
       "    .dataframe tbody tr th:only-of-type {\n",
       "        vertical-align: middle;\n",
       "    }\n",
       "\n",
       "    .dataframe tbody tr th {\n",
       "        vertical-align: top;\n",
       "    }\n",
       "\n",
       "    .dataframe thead th {\n",
       "        text-align: right;\n",
       "    }\n",
       "</style>\n",
       "<table border=\"1\" class=\"dataframe\">\n",
       "  <thead>\n",
       "    <tr style=\"text-align: right;\">\n",
       "      <th></th>\n",
       "      <th>id</th>\n",
       "      <th>sigla</th>\n",
       "      <th>qtd_estacoes</th>\n",
       "    </tr>\n",
       "  </thead>\n",
       "  <tbody>\n",
       "    <tr>\n",
       "      <th>0</th>\n",
       "      <td>1</td>\n",
       "      <td>US</td>\n",
       "      <td>82138</td>\n",
       "    </tr>\n",
       "    <tr>\n",
       "      <th>1</th>\n",
       "      <td>2</td>\n",
       "      <td>UK</td>\n",
       "      <td>26825</td>\n",
       "    </tr>\n",
       "    <tr>\n",
       "      <th>2</th>\n",
       "      <td>3</td>\n",
       "      <td>DE</td>\n",
       "      <td>23373</td>\n",
       "    </tr>\n",
       "    <tr>\n",
       "      <th>3</th>\n",
       "      <td>4</td>\n",
       "      <td>ES</td>\n",
       "      <td>17825</td>\n",
       "    </tr>\n",
       "  </tbody>\n",
       "</table>\n",
       "</div>"
      ],
      "text/plain": [
       "   id sigla  qtd_estacoes\n",
       "0   1    US         82138\n",
       "1   2    UK         26825\n",
       "2   3    DE         23373\n",
       "3   4    ES         17825"
      ]
     },
     "execution_count": 147,
     "metadata": {},
     "output_type": "execute_result"
    }
   ],
   "source": [
    "df_paises_infos.head(4)"
   ]
  },
  {
   "cell_type": "code",
   "execution_count": 148,
   "metadata": {},
   "outputs": [
    {
     "data": {
      "text/html": [
       "<div>\n",
       "<style scoped>\n",
       "    .dataframe tbody tr th:only-of-type {\n",
       "        vertical-align: middle;\n",
       "    }\n",
       "\n",
       "    .dataframe tbody tr th {\n",
       "        vertical-align: top;\n",
       "    }\n",
       "\n",
       "    .dataframe thead th {\n",
       "        text-align: right;\n",
       "    }\n",
       "</style>\n",
       "<table border=\"1\" class=\"dataframe\">\n",
       "  <thead>\n",
       "    <tr style=\"text-align: right;\">\n",
       "      <th></th>\n",
       "      <th>fabricante</th>\n",
       "      <th>modelo</th>\n",
       "      <th>regiao_mercado</th>\n",
       "      <th>tipo_motor</th>\n",
       "      <th>first_year</th>\n",
       "      <th>carro_categoria</th>\n",
       "      <th>sigla</th>\n",
       "      <th>id</th>\n",
       "      <th>country_code</th>\n",
       "    </tr>\n",
       "  </thead>\n",
       "  <tbody>\n",
       "    <tr>\n",
       "      <th>0</th>\n",
       "      <td>Tesla</td>\n",
       "      <td>Model S</td>\n",
       "      <td>Global (US/EU/UK/ME)</td>\n",
       "      <td>BEV</td>\n",
       "      <td>2012.0</td>\n",
       "      <td>Sedan</td>\n",
       "      <td>US</td>\n",
       "      <td>1</td>\n",
       "      <td>US</td>\n",
       "    </tr>\n",
       "    <tr>\n",
       "      <th>1</th>\n",
       "      <td>Tesla</td>\n",
       "      <td>Model 3</td>\n",
       "      <td>Global (US/EU/UK/ME/CN)</td>\n",
       "      <td>BEV</td>\n",
       "      <td>2017.0</td>\n",
       "      <td>Sedan</td>\n",
       "      <td>US</td>\n",
       "      <td>1</td>\n",
       "      <td>US</td>\n",
       "    </tr>\n",
       "    <tr>\n",
       "      <th>2</th>\n",
       "      <td>Tesla</td>\n",
       "      <td>Model X</td>\n",
       "      <td>Global (US/EU/UK/ME)</td>\n",
       "      <td>BEV</td>\n",
       "      <td>2015.0</td>\n",
       "      <td>SUV</td>\n",
       "      <td>US</td>\n",
       "      <td>1</td>\n",
       "      <td>US</td>\n",
       "    </tr>\n",
       "    <tr>\n",
       "      <th>3</th>\n",
       "      <td>Tesla</td>\n",
       "      <td>Model Y</td>\n",
       "      <td>Global (US/EU/UK/ME/CN)</td>\n",
       "      <td>BEV</td>\n",
       "      <td>2020.0</td>\n",
       "      <td>SUV</td>\n",
       "      <td>US</td>\n",
       "      <td>1</td>\n",
       "      <td>US</td>\n",
       "    </tr>\n",
       "  </tbody>\n",
       "</table>\n",
       "</div>"
      ],
      "text/plain": [
       "  fabricante   modelo           regiao_mercado tipo_motor  first_year  \\\n",
       "0      Tesla  Model S     Global (US/EU/UK/ME)        BEV      2012.0   \n",
       "1      Tesla  Model 3  Global (US/EU/UK/ME/CN)        BEV      2017.0   \n",
       "2      Tesla  Model X     Global (US/EU/UK/ME)        BEV      2015.0   \n",
       "3      Tesla  Model Y  Global (US/EU/UK/ME/CN)        BEV      2020.0   \n",
       "\n",
       "  carro_categoria sigla  id country_code  \n",
       "0           Sedan    US   1           US  \n",
       "1           Sedan    US   1           US  \n",
       "2             SUV    US   1           US  \n",
       "3             SUV    US   1           US  "
      ]
     },
     "execution_count": 148,
     "metadata": {},
     "output_type": "execute_result"
    }
   ],
   "source": [
    "df_veiculo.head(4)"
   ]
  },
  {
   "cell_type": "code",
   "execution_count": 149,
   "metadata": {},
   "outputs": [
    {
     "data": {
      "text/html": [
       "<div>\n",
       "<style scoped>\n",
       "    .dataframe tbody tr th:only-of-type {\n",
       "        vertical-align: middle;\n",
       "    }\n",
       "\n",
       "    .dataframe tbody tr th {\n",
       "        vertical-align: top;\n",
       "    }\n",
       "\n",
       "    .dataframe thead th {\n",
       "        text-align: right;\n",
       "    }\n",
       "</style>\n",
       "<table border=\"1\" class=\"dataframe\">\n",
       "  <thead>\n",
       "    <tr style=\"text-align: right;\">\n",
       "      <th></th>\n",
       "      <th>sigla</th>\n",
       "      <th>pais</th>\n",
       "      <th>qtd_estacoes</th>\n",
       "      <th>potencia_max_estacao</th>\n",
       "      <th>id</th>\n",
       "    </tr>\n",
       "  </thead>\n",
       "  <tbody>\n",
       "    <tr>\n",
       "      <th>0</th>\n",
       "      <td>US</td>\n",
       "      <td>United States</td>\n",
       "      <td>83821</td>\n",
       "      <td>600.0</td>\n",
       "      <td>1</td>\n",
       "    </tr>\n",
       "    <tr>\n",
       "      <th>1</th>\n",
       "      <td>UK</td>\n",
       "      <td>United Kingdom</td>\n",
       "      <td>27437</td>\n",
       "      <td>560.0</td>\n",
       "      <td>2</td>\n",
       "    </tr>\n",
       "    <tr>\n",
       "      <th>2</th>\n",
       "      <td>DE</td>\n",
       "      <td>Germany</td>\n",
       "      <td>24465</td>\n",
       "      <td>400.0</td>\n",
       "      <td>3</td>\n",
       "    </tr>\n",
       "    <tr>\n",
       "      <th>3</th>\n",
       "      <td>CA</td>\n",
       "      <td>Canada</td>\n",
       "      <td>18203</td>\n",
       "      <td>400.0</td>\n",
       "      <td>5</td>\n",
       "    </tr>\n",
       "    <tr>\n",
       "      <th>4</th>\n",
       "      <td>ES</td>\n",
       "      <td>Spain</td>\n",
       "      <td>17864</td>\n",
       "      <td>1000.0</td>\n",
       "      <td>4</td>\n",
       "    </tr>\n",
       "  </tbody>\n",
       "</table>\n",
       "</div>"
      ],
      "text/plain": [
       "  sigla            pais  qtd_estacoes  potencia_max_estacao  id\n",
       "0    US   United States         83821                 600.0   1\n",
       "1    UK  United Kingdom         27437                 560.0   2\n",
       "2    DE         Germany         24465                 400.0   3\n",
       "3    CA          Canada         18203                 400.0   5\n",
       "4    ES           Spain         17864                1000.0   4"
      ]
     },
     "execution_count": 149,
     "metadata": {},
     "output_type": "execute_result"
    }
   ],
   "source": [
    "df_paises.head(5)"
   ]
  },
  {
   "cell_type": "markdown",
   "metadata": {},
   "source": [
    "Adicionando uma coluna de id no df_paises infos e ligando com os outros DE's"
   ]
  },
  {
   "cell_type": "code",
   "execution_count": 136,
   "metadata": {},
   "outputs": [],
   "source": [
    "# 1) Criar coluna id no df_paises_infos (country_summary)\n",
    "df_paises_infos = df_paises_infos.reset_index(drop=True)  # garante índice limpo\n",
    "df_paises_infos.insert(0, \"id\", range(1, len(df_paises_infos) + 1))  # cria ID sequencial\n",
    "\n",
    "# 2) Reorganizar colunas (id primeiro, o resto depois)\n",
    "cols_paises_infos = ['id'] + [col for col in df_paises_infos.columns if col != 'id']\n",
    "df_paises_infos = df_paises_infos[cols_paises_infos]\n"
   ]
  },
  {
   "cell_type": "code",
   "execution_count": 137,
   "metadata": {},
   "outputs": [],
   "source": [
    "\n",
    "# ========================================\n",
    "# 2) Fazer os merges para herdar o id_pais\n",
    "# ========================================\n",
    "\n",
    "# --- Stations ---\n",
    "df_estacoes = df_estacoes.merge(\n",
    "    df_paises_infos[[\"id\", \"country_code\"]],\n",
    "    on=\"country_code\",\n",
    "    how=\"left\"\n",
    ")\n",
    "\n",
    "# --- World Summary ---\n",
    "df_paises = df_paises.merge(\n",
    "    df_paises_infos[[\"id\", \"country_code\"]],\n",
    "    on=\"country_code\",\n",
    "    how=\"left\"\n",
    ")\n",
    "\n",
    "# --- EV Models ---\n",
    "df_veiculo = df_veiculo.merge(\n",
    "    df_paises_infos[[\"id\", \"country_code\"]],\n",
    "    left_on=\"origin_country\",\n",
    "    right_on=\"country_code\",\n",
    "    how=\"left\"\n",
    ")\n"
   ]
  },
  {
   "cell_type": "markdown",
   "metadata": {},
   "source": [
    "RENOMEANDO/TRADUZINDO COLUNAS DE TODOS OS DATAFRAMES"
   ]
  },
  {
   "cell_type": "code",
   "execution_count": 142,
   "metadata": {},
   "outputs": [],
   "source": [
    "df_estacoes=df_estacoes.rename(columns={\n",
    "        'id_x':'id_estacao',\n",
    "        'name':'nome_local',\n",
    "        'city':'cidade',\n",
    "        'country_code':'sigla',\n",
    "        'state_province':'estado',\n",
    "        'ports':'qtd_portas',\n",
    "        'power_kw':'potencia',\n",
    "        'power_class':'potencia_categoria',\n",
    "        'is_fast_dc':'carregamento_rapido',\n",
    "        'id_y':'id'\n",
    "    })"
   ]
  },
  {
   "cell_type": "code",
   "execution_count": 143,
   "metadata": {},
   "outputs": [],
   "source": [
    "df_paises_infos=df_paises_infos.rename(columns={\n",
    "        'id':'id',\n",
    "        'country_code':'sigla',\n",
    "        'stations':'qtd_estacoes'\n",
    "    })"
   ]
  },
  {
   "cell_type": "code",
   "execution_count": 144,
   "metadata": {},
   "outputs": [],
   "source": [
    "df_veiculo=df_veiculo.rename(columns={\n",
    "        'make':'fabricante',\n",
    "        'model':'modelo',\n",
    "        'market_regions':'regiao_mercado',\n",
    "        'powertrain':'tipo_motor',\n",
    "        'body_style':'carro_categoria',\n",
    "        'id':'id',\n",
    "        'origin_country':'sigla'\n",
    "    })"
   ]
  },
  {
   "cell_type": "code",
   "execution_count": 145,
   "metadata": {},
   "outputs": [],
   "source": [
    "df_paises=df_paises.rename(columns={\n",
    "        'country_code':'sigla',\n",
    "        'country':'pais',\n",
    "        'count':'qtd_estacoes',\n",
    "        'max_power_kw_max':'potencia_max_estacao',\n",
    "        'id':'id'\n",
    "    })"
   ]
  },
  {
   "cell_type": "markdown",
   "metadata": {},
   "source": [
    "VERIFICANDO A QUANTIDA DE NULOS EM CADA COLUNA DE CADA DATAFRAME"
   ]
  },
  {
   "cell_type": "code",
   "execution_count": 155,
   "metadata": {},
   "outputs": [
    {
     "data": {
      "text/plain": [
       "id_estacao             0\n",
       "nome_local             0\n",
       "cidade                 0\n",
       "sigla                  0\n",
       "estado                 0\n",
       "latitude               0\n",
       "longitude              0\n",
       "qtd_portas             0\n",
       "potencia               0\n",
       "potencia_categoria     0\n",
       "carregamento_rapido    0\n",
       "id                     0\n",
       "dtype: int64"
      ]
     },
     "execution_count": 155,
     "metadata": {},
     "output_type": "execute_result"
    }
   ],
   "source": [
    "df_estacoes.isna().sum()"
   ]
  },
  {
   "cell_type": "code",
   "execution_count": 156,
   "metadata": {},
   "outputs": [
    {
     "data": {
      "text/plain": [
       "id              0\n",
       "sigla           0\n",
       "qtd_estacoes    0\n",
       "dtype: int64"
      ]
     },
     "execution_count": 156,
     "metadata": {},
     "output_type": "execute_result"
    }
   ],
   "source": [
    "df_paises_infos.isna().sum()"
   ]
  },
  {
   "cell_type": "code",
   "execution_count": 179,
   "metadata": {},
   "outputs": [
    {
     "data": {
      "text/plain": [
       "id_veiculo         0\n",
       "fabricante         0\n",
       "modelo             0\n",
       "regiao_mercado     0\n",
       "tipo_motor         0\n",
       "first_year         0\n",
       "carro_categoria    1\n",
       "sigla              0\n",
       "id                 0\n",
       "country_code       0\n",
       "dtype: int64"
      ]
     },
     "execution_count": 179,
     "metadata": {},
     "output_type": "execute_result"
    }
   ],
   "source": [
    "df_veiculo.isna().sum()"
   ]
  },
  {
   "cell_type": "code",
   "execution_count": 158,
   "metadata": {},
   "outputs": [
    {
     "data": {
      "text/plain": [
       "sigla                   0\n",
       "pais                    0\n",
       "qtd_estacoes            0\n",
       "potencia_max_estacao    0\n",
       "id                      0\n",
       "dtype: int64"
      ]
     },
     "execution_count": 158,
     "metadata": {},
     "output_type": "execute_result"
    }
   ],
   "source": [
    "df_paises.isna().sum()"
   ]
  },
  {
   "cell_type": "markdown",
   "metadata": {},
   "source": [
    "TRATANDO NULOS DE TODAS OS DATAFRAMES"
   ]
  },
  {
   "cell_type": "code",
   "execution_count": 154,
   "metadata": {},
   "outputs": [],
   "source": [
    "#tratando nulos df_estacoes\n",
    "df_estacoes['cidade']=df_estacoes['cidade'].fillna('nao informado')\n",
    "df_estacoes['estado']=df_estacoes['estado'].fillna('nao informado')\n",
    "df_estacoes['sigla']=df_estacoes['sigla'].fillna('nao informado')\n",
    "df_estacoes['latitude']=df_estacoes['latitude'].fillna(0)\n",
    "df_estacoes['longitude']=df_estacoes['longitude'].fillna(0)\n",
    "df_estacoes['qtd_portas']=df_estacoes['qtd_portas'].fillna(4)\n",
    "df_estacoes['potencia']=df_estacoes['potencia'].fillna(df_estacoes['potencia'].mean().round(2))\n",
    "df_estacoes['potencia_categoria']=df_estacoes['potencia_categoria'].fillna(\"nao informado\")\n",
    "df_estacoes['carregamento_rapido']=df_estacoes['carregamento_rapido'].fillna(\"nao informado\")\n",
    "df_estacoes['id']=df_estacoes['id'].fillna(1)\n",
    "\n",
    "\n",
    "\n",
    "#tratando nulos df_paises_infos\n",
    "df_paises_infos['sigla']=df_paises_infos['sigla'].fillna('nao informado')\n",
    "\n",
    "#tratando nulos df_veiculos\n",
    "df_veiculo['tipo_motor']=df_veiculo['tipo_motor'].fillna('nao informado')\n",
    "df_veiculo['first_year']=df_veiculo['first_year'].fillna(df_veiculo['first_year'].mean().round(0))\n",
    "df_veiculo['carro_categoria']=df_veiculo['carro_categoria'].fillna('nao informado')\n",
    "\n",
    "#tratando nulos df_pais\n",
    "df_paises['sigla']=df_paises['sigla'].fillna('nao informado')\n",
    "df_paises['potencia_max_estacao']=df_paises['potencia_max_estacao'].fillna(df_paises['potencia_max_estacao'].median().round(2))\n"
   ]
  },
  {
   "cell_type": "markdown",
   "metadata": {},
   "source": [
    "TRATANDO CATEGORIAS EXISTENTES NA TABELA DE VEICULOS"
   ]
  },
  {
   "cell_type": "code",
   "execution_count": 159,
   "metadata": {},
   "outputs": [
    {
     "data": {
      "text/plain": [
       "array(['DC_ULTRA_(>=150kW)', 'AC_HIGH_(22-49kW)', 'AC_L2_(7.5-21kW)',\n",
       "       'AC_L1_(<7.5kW)', 'DC_FAST_(50-149kW)', 'UNKNOWN', 'nao informado'],\n",
       "      dtype=object)"
      ]
     },
     "execution_count": 159,
     "metadata": {},
     "output_type": "execute_result"
    }
   ],
   "source": [
    "df_estacoes['potencia_categoria'].unique()"
   ]
  },
  {
   "cell_type": "code",
   "execution_count": 160,
   "metadata": {},
   "outputs": [
    {
     "data": {
      "text/html": [
       "<div>\n",
       "<style scoped>\n",
       "    .dataframe tbody tr th:only-of-type {\n",
       "        vertical-align: middle;\n",
       "    }\n",
       "\n",
       "    .dataframe tbody tr th {\n",
       "        vertical-align: top;\n",
       "    }\n",
       "\n",
       "    .dataframe thead th {\n",
       "        text-align: right;\n",
       "    }\n",
       "</style>\n",
       "<table border=\"1\" class=\"dataframe\">\n",
       "  <thead>\n",
       "    <tr style=\"text-align: right;\">\n",
       "      <th></th>\n",
       "      <th>id_estacao</th>\n",
       "      <th>nome_local</th>\n",
       "      <th>cidade</th>\n",
       "      <th>sigla</th>\n",
       "      <th>estado</th>\n",
       "      <th>latitude</th>\n",
       "      <th>longitude</th>\n",
       "      <th>qtd_portas</th>\n",
       "      <th>potencia</th>\n",
       "      <th>potencia_categoria</th>\n",
       "      <th>carregamento_rapido</th>\n",
       "      <th>id</th>\n",
       "      <th>tipo_corrente</th>\n",
       "      <th>potencia_categoria_traduzida</th>\n",
       "    </tr>\n",
       "  </thead>\n",
       "  <tbody>\n",
       "    <tr>\n",
       "      <th>0</th>\n",
       "      <td>307660</td>\n",
       "      <td>Av. de Tarragona</td>\n",
       "      <td>Andorra</td>\n",
       "      <td>AD</td>\n",
       "      <td>nao informado</td>\n",
       "      <td>42505254.0</td>\n",
       "      <td>1528861.0</td>\n",
       "      <td>10.0</td>\n",
       "      <td>300.0</td>\n",
       "      <td>DC_ULTRA_(&gt;=150kW)</td>\n",
       "      <td>Carregamento rapido</td>\n",
       "      <td>53</td>\n",
       "      <td>DC</td>\n",
       "      <td>Ultrarrápida</td>\n",
       "    </tr>\n",
       "    <tr>\n",
       "      <th>1</th>\n",
       "      <td>301207</td>\n",
       "      <td>Parquing Costa Rodona</td>\n",
       "      <td>Encamp</td>\n",
       "      <td>AD</td>\n",
       "      <td>nao informado</td>\n",
       "      <td>42537213.0</td>\n",
       "      <td>1727014.0</td>\n",
       "      <td>10.0</td>\n",
       "      <td>22.0</td>\n",
       "      <td>AC_HIGH_(22-49kW)</td>\n",
       "      <td>Carregamento lento</td>\n",
       "      <td>53</td>\n",
       "      <td>AC</td>\n",
       "      <td>Alta Potência</td>\n",
       "    </tr>\n",
       "    <tr>\n",
       "      <th>2</th>\n",
       "      <td>301206</td>\n",
       "      <td>Hotel Naudi</td>\n",
       "      <td>nao informado</td>\n",
       "      <td>AD</td>\n",
       "      <td>nao informado</td>\n",
       "      <td>42576811.0</td>\n",
       "      <td>1666061.0</td>\n",
       "      <td>1.0</td>\n",
       "      <td>11.0</td>\n",
       "      <td>AC_L2_(7.5-21kW)</td>\n",
       "      <td>Carregamento lento</td>\n",
       "      <td>53</td>\n",
       "      <td>AC</td>\n",
       "      <td>Média Potência</td>\n",
       "    </tr>\n",
       "  </tbody>\n",
       "</table>\n",
       "</div>"
      ],
      "text/plain": [
       "   id_estacao             nome_local         cidade sigla         estado  \\\n",
       "0      307660       Av. de Tarragona        Andorra    AD  nao informado   \n",
       "1      301207  Parquing Costa Rodona         Encamp    AD  nao informado   \n",
       "2      301206            Hotel Naudi  nao informado    AD  nao informado   \n",
       "\n",
       "     latitude  longitude  qtd_portas  potencia  potencia_categoria  \\\n",
       "0  42505254.0  1528861.0        10.0     300.0  DC_ULTRA_(>=150kW)   \n",
       "1  42537213.0  1727014.0        10.0      22.0   AC_HIGH_(22-49kW)   \n",
       "2  42576811.0  1666061.0         1.0      11.0    AC_L2_(7.5-21kW)   \n",
       "\n",
       "   carregamento_rapido  id tipo_corrente potencia_categoria_traduzida  \n",
       "0  Carregamento rapido  53            DC                 Ultrarrápida  \n",
       "1   Carregamento lento  53            AC                Alta Potência  \n",
       "2   Carregamento lento  53            AC               Média Potência  "
      ]
     },
     "execution_count": 160,
     "metadata": {},
     "output_type": "execute_result"
    }
   ],
   "source": [
    "# Dicionário com as traduções\n",
    "traducao_tipo_corrente = {\n",
    "    'AC_L1_(<7.5kW)': 'AC',\n",
    "    'AC_L2_(7.5-21kW)': 'AC',\n",
    "    'AC_HIGH_(22-49kW)': 'AC',\n",
    "    'DC_FAST_(50-149kW)': 'DC',\n",
    "    'DC_ULTRA_(>=150kW)': 'DC'\n",
    "}\n",
    "\n",
    "traducao_potencia_categoria = {\n",
    "    'AC_L1_(<7.5kW)': 'Baixa Potência',\n",
    "    'AC_L2_(7.5-21kW)': 'Média Potência',\n",
    "    'AC_HIGH_(22-49kW)': 'Alta Potência',\n",
    "    'DC_FAST_(50-149kW)': 'Rápida',\n",
    "    'DC_ULTRA_(>=150kW)': 'Ultrarrápida'\n",
    "}\n",
    "\n",
    "df_estacoes['tipo_corrente'] = df_estacoes['potencia_categoria'].map(traducao_tipo_corrente)\n",
    "df_estacoes['potencia_categoria_traduzida'] = df_estacoes['potencia_categoria'].map(traducao_potencia_categoria)\n",
    "\n",
    "df_estacoes['tipo_corrente']=df_estacoes['tipo_corrente'].fillna('não informado')\n",
    "df_estacoes['potencia_categoria_traduzida']=df_estacoes['potencia_categoria_traduzida'].fillna('não informado')\n",
    "\n",
    "df_estacoes.head(3)"
   ]
  },
  {
   "cell_type": "code",
   "execution_count": 161,
   "metadata": {},
   "outputs": [
    {
     "data": {
      "text/plain": [
       "array(['Sedan', 'SUV', 'Pickup', 'Hatchback', 'nao informado',\n",
       "       'Crossover', 'Van', 'Sedan/Wagon', 'SUV (3-row)', 'Sedan/SUV',\n",
       "       'Liftback', 'City car'], dtype=object)"
      ]
     },
     "execution_count": 161,
     "metadata": {},
     "output_type": "execute_result"
    }
   ],
   "source": [
    "df_veiculo['carro_categoria'].unique()"
   ]
  },
  {
   "cell_type": "code",
   "execution_count": 162,
   "metadata": {},
   "outputs": [
    {
     "data": {
      "text/html": [
       "<div>\n",
       "<style scoped>\n",
       "    .dataframe tbody tr th:only-of-type {\n",
       "        vertical-align: middle;\n",
       "    }\n",
       "\n",
       "    .dataframe tbody tr th {\n",
       "        vertical-align: top;\n",
       "    }\n",
       "\n",
       "    .dataframe thead th {\n",
       "        text-align: right;\n",
       "    }\n",
       "</style>\n",
       "<table border=\"1\" class=\"dataframe\">\n",
       "  <thead>\n",
       "    <tr style=\"text-align: right;\">\n",
       "      <th></th>\n",
       "      <th>id_veiculo</th>\n",
       "      <th>fabricante</th>\n",
       "      <th>modelo</th>\n",
       "      <th>regiao_mercado</th>\n",
       "      <th>tipo_motor</th>\n",
       "      <th>first_year</th>\n",
       "      <th>carro_categoria</th>\n",
       "      <th>sigla</th>\n",
       "      <th>id</th>\n",
       "      <th>country_code</th>\n",
       "    </tr>\n",
       "  </thead>\n",
       "  <tbody>\n",
       "    <tr>\n",
       "      <th>0</th>\n",
       "      <td>1</td>\n",
       "      <td>Tesla</td>\n",
       "      <td>Model S</td>\n",
       "      <td>Global (US/EU/UK/ME)</td>\n",
       "      <td>BEV</td>\n",
       "      <td>2012.0</td>\n",
       "      <td>Sedan</td>\n",
       "      <td>US</td>\n",
       "      <td>1</td>\n",
       "      <td>US</td>\n",
       "    </tr>\n",
       "    <tr>\n",
       "      <th>1</th>\n",
       "      <td>2</td>\n",
       "      <td>Tesla</td>\n",
       "      <td>Model 3</td>\n",
       "      <td>Global (US/EU/UK/ME/CN)</td>\n",
       "      <td>BEV</td>\n",
       "      <td>2017.0</td>\n",
       "      <td>Sedan</td>\n",
       "      <td>US</td>\n",
       "      <td>1</td>\n",
       "      <td>US</td>\n",
       "    </tr>\n",
       "    <tr>\n",
       "      <th>2</th>\n",
       "      <td>3</td>\n",
       "      <td>Tesla</td>\n",
       "      <td>Model X</td>\n",
       "      <td>Global (US/EU/UK/ME)</td>\n",
       "      <td>BEV</td>\n",
       "      <td>2015.0</td>\n",
       "      <td>SUV</td>\n",
       "      <td>US</td>\n",
       "      <td>1</td>\n",
       "      <td>US</td>\n",
       "    </tr>\n",
       "  </tbody>\n",
       "</table>\n",
       "</div>"
      ],
      "text/plain": [
       "   id_veiculo fabricante   modelo           regiao_mercado tipo_motor  \\\n",
       "0           1      Tesla  Model S     Global (US/EU/UK/ME)        BEV   \n",
       "1           2      Tesla  Model 3  Global (US/EU/UK/ME/CN)        BEV   \n",
       "2           3      Tesla  Model X     Global (US/EU/UK/ME)        BEV   \n",
       "\n",
       "   first_year carro_categoria sigla  id country_code  \n",
       "0      2012.0           Sedan    US   1           US  \n",
       "1      2017.0           Sedan    US   1           US  \n",
       "2      2015.0             SUV    US   1           US  "
      ]
     },
     "execution_count": 162,
     "metadata": {},
     "output_type": "execute_result"
    }
   ],
   "source": [
    "map_body_style = {\n",
    "    'Sedan': 'Sedan',\n",
    "    'SUV': 'SUV',\n",
    "    'Hatchback': 'Hatch',\n",
    "    'Van': 'Van',\n",
    "    'Sedan/SUV': 'SUV',\n",
    "    'Pickup': 'Van',       # pode jogar pickup como \"Van\" ou \"Outros\"\n",
    "    'SUV (3-row)': 'SUV',      # coupe pode ser simplificado como sedan\n",
    "    'Sedan/Wagon': 'Hatch',\n",
    "    'Liftback': 'Hatch',\n",
    "    'Crossover': 'SUV',\n",
    "    'City car':'Hatch'\n",
    "}\n",
    "\n",
    "df_veiculo['id_veiculo'] = range(1, len(df_veiculo) + 1)\n",
    "\n",
    "cols = ['id_veiculo'] + [col for col in df_veiculo.columns if col != 'id_veiculo']\n",
    "df_veiculo = df_veiculo[cols]\n",
    "\n",
    "df_veiculo['id_veiculo']=df_veiculo['id_veiculo'].fillna(0)\n",
    "\n",
    "df_veiculo['carro_categoria'] = df_veiculo['carro_categoria'].map(map_body_style)\n",
    "df_veiculo.head(3)"
   ]
  },
  {
   "cell_type": "markdown",
   "metadata": {},
   "source": [
    "REMOVENDO ID's DUPLICADOS"
   ]
  },
  {
   "cell_type": "code",
   "execution_count": 163,
   "metadata": {},
   "outputs": [],
   "source": [
    "# Removendo duplicatas em cada tabela pela PK\n",
    "df_paises = df_paises.drop_duplicates(subset=[\"sigla\"])\n",
    "df_paises_infos = df_paises_infos.drop_duplicates(subset=[\"id\"])\n",
    "df_veiculo = df_veiculo.drop_duplicates(subset=[\"id_veiculo\"])\n",
    "df_estacoes = df_estacoes.drop_duplicates(subset=[\"id_estacao\"])"
   ]
  },
  {
   "cell_type": "markdown",
   "metadata": {},
   "source": [
    "VERIFICANDO O TIPO DE CADA COLUNA DOS DATAFRAMES"
   ]
  },
  {
   "cell_type": "code",
   "execution_count": 164,
   "metadata": {},
   "outputs": [
    {
     "data": {
      "text/plain": [
       "id_estacao                        int64\n",
       "nome_local                       object\n",
       "cidade                           object\n",
       "sigla                            object\n",
       "estado                           object\n",
       "latitude                        float64\n",
       "longitude                       float64\n",
       "qtd_portas                      float64\n",
       "potencia                        float64\n",
       "potencia_categoria               object\n",
       "carregamento_rapido              object\n",
       "id                                int64\n",
       "tipo_corrente                    object\n",
       "potencia_categoria_traduzida     object\n",
       "dtype: object"
      ]
     },
     "execution_count": 164,
     "metadata": {},
     "output_type": "execute_result"
    }
   ],
   "source": [
    "df_estacoes.dtypes"
   ]
  },
  {
   "cell_type": "code",
   "execution_count": 165,
   "metadata": {},
   "outputs": [
    {
     "data": {
      "text/plain": [
       "id               int64\n",
       "sigla           object\n",
       "qtd_estacoes     int64\n",
       "dtype: object"
      ]
     },
     "execution_count": 165,
     "metadata": {},
     "output_type": "execute_result"
    }
   ],
   "source": [
    "df_paises_infos.dtypes"
   ]
  },
  {
   "cell_type": "code",
   "execution_count": 178,
   "metadata": {},
   "outputs": [
    {
     "data": {
      "text/plain": [
       "id_veiculo          int64\n",
       "fabricante         object\n",
       "modelo             object\n",
       "regiao_mercado     object\n",
       "tipo_motor         object\n",
       "first_year          int64\n",
       "carro_categoria    object\n",
       "sigla              object\n",
       "id                  int64\n",
       "country_code       object\n",
       "dtype: object"
      ]
     },
     "execution_count": 178,
     "metadata": {},
     "output_type": "execute_result"
    }
   ],
   "source": [
    "df_veiculo.dtypes"
   ]
  },
  {
   "cell_type": "code",
   "execution_count": 167,
   "metadata": {},
   "outputs": [
    {
     "data": {
      "text/plain": [
       "sigla                    object\n",
       "pais                     object\n",
       "qtd_estacoes              int64\n",
       "potencia_max_estacao    float64\n",
       "id                        int64\n",
       "dtype: object"
      ]
     },
     "execution_count": 167,
     "metadata": {},
     "output_type": "execute_result"
    }
   ],
   "source": [
    "df_paises.dtypes"
   ]
  },
  {
   "cell_type": "markdown",
   "metadata": {},
   "source": [
    "TRANSFERINDO OS DADOS TRATADOS DE CADA DATA FRAME EM UM BANCO DE DADOS "
   ]
  },
  {
   "cell_type": "code",
   "execution_count": 182,
   "metadata": {},
   "outputs": [],
   "source": [
    "\n",
    "#Realizando a conexao com o banco de dados \n",
    "server = 'localhost'  # Nome do servidor SQL Server\n",
    "database = 'estacoes_database_oficial'  #Nome do banco de dados\n",
    "\n",
    "conexaoDB = pyodbc.connect(\n",
    "    'DRIVER={ODBC Driver 17 for SQL Server};'\n",
    "    f'SERVER={server};'\n",
    "    f'DATABASE={database};'\n",
    "    'Trusted_Connection=yes;'\n",
    ")\n",
    "\n",
    "cursor = conexaoDB.cursor()   #Criando cursor de comando \n",
    "\n",
    "# --- APAGAR DADOS NA ORDEM CORRETA ---\n",
    "cursor.execute('DELETE FROM estacoes')  # primeiro filhos\n",
    "cursor.execute('DELETE FROM veiculos')  # primeiro filhos\n",
    "cursor.execute('DELETE FROM paises')   # primeiro filhos\n",
    "cursor.execute(\"DELETE FROM paises_infos\") # depois pais\n",
    "\n",
    "cursor.commit() #Validacao dos comandos executados\n",
    "\n",
    "# --- INSERIR DADOS NA TABELA PAISES_INFOS ---\n",
    "for index, linha in df_paises_infos.iterrows():\n",
    "    cursor.execute(\"\"\"\n",
    "        INSERT INTO paises_infos (id,sigla,qtd_estacoes)\n",
    "        VALUES (?, ?, ?)\n",
    "    \"\"\", \n",
    "    linha.id, \n",
    "    linha.sigla,\n",
    "    linha.qtd_estacoes \n",
    "    )\n",
    "\n",
    "cursor.commit()\n",
    "\n",
    "# --- INSERIR DADOS NA TABELA PAISES ---\n",
    "for index, linha in df_paises.iterrows():\n",
    "    cursor.execute(\"\"\"\n",
    "        INSERT INTO paises (sigla, pais, qtd_estacoes, potencia_max_estacao,id)\n",
    "        VALUES (?,?,?,?,?)\n",
    "    \"\"\", \n",
    "    linha.sigla, \n",
    "    linha.pais, \n",
    "    linha.qtd_estacoes, \n",
    "    linha.potencia_max_estacao,\n",
    "    linha.id)\n",
    "\n",
    "cursor.commit()\n",
    "\n",
    "# --- ULTIMAS TRATATIVAS DO df_veiculo ANTES DE TRANSFERIR PARA UM BANCO DE DADOS ---\n",
    "df_veiculo['first_year'] = df_veiculo['first_year'].fillna(0).astype(int)\n",
    "df_veiculo = df_veiculo.where(pd.notnull(df_veiculo), None)\n",
    "df_veiculo = df_veiculo[df_veiculo['id'].notna() & (df_veiculo['id'] != '')]\n",
    "\n",
    "# --- INSERIR DADOS NA TABELA FILHA ---\n",
    "for index, linha in df_veiculo.iterrows():\n",
    "    cursor.execute(\"\"\"\n",
    "        INSERT INTO veiculos (\n",
    "            id_veiculo, fabricante, modelo, regiao_mercado, tipo_motor,\n",
    "            first_year, carro_categoria, sigla, id, country_code\n",
    "        ) VALUES (?, ?, ?, ?, ?, ?, ?, ?, ?, ?)\n",
    "    \"\"\",\n",
    "    linha['id_veiculo'],\n",
    "    linha['fabricante'],\n",
    "    linha['modelo'],\n",
    "    linha['regiao_mercado'],\n",
    "    linha['tipo_motor'],\n",
    "    linha['first_year'],\n",
    "    linha['carro_categoria'],\n",
    "    linha['sigla'],\n",
    "    linha['id'],\n",
    "    linha['country_code']\n",
    "    )\n",
    "\n",
    "cursor.commit()\n",
    "\n",
    "# --- INSERINDO DADOS NA TABELA ESTACAO ---\n",
    "for index, linha in df_estacoes.iterrows():\n",
    "    cursor.execute(\"\"\"\n",
    "        INSERT INTO estacoes (\n",
    "            id_estacao, nome_local, cidade, sigla, estado,\n",
    "            latitude, longitude, qtd_portas, potencia,\n",
    "            potencia_categoria, carregamento_rapido,id,\n",
    "            tipo_corrente, potencia_categoria_traduzida\n",
    "        ) VALUES (?, ?, ?, ?, ?, ?, ?, ?, ?, ?, ?, ?, ?, ?)\n",
    "    \"\"\",\n",
    "    linha['id_estacao'],\n",
    "    linha['nome_local'],\n",
    "    linha['cidade'],\n",
    "    linha['sigla'],\n",
    "    linha['estado'],\n",
    "    linha['latitude'],\n",
    "    linha['longitude'],\n",
    "    linha['qtd_portas'],\n",
    "    linha['potencia'],\n",
    "    linha['potencia_categoria'],\n",
    "    linha['carregamento_rapido'],\n",
    "    linha['id'],\n",
    "    linha['tipo_corrente'],\n",
    "    linha['potencia_categoria_traduzida'])\n",
    "\n",
    "cursor.commit()\n",
    "cursor.close()\n",
    "conexaoDB.close()\n"
   ]
  }
 ],
 "metadata": {
  "kernelspec": {
   "display_name": "venv",
   "language": "python",
   "name": "python3"
  },
  "language_info": {
   "codemirror_mode": {
    "name": "ipython",
    "version": 3
   },
   "file_extension": ".py",
   "mimetype": "text/x-python",
   "name": "python",
   "nbconvert_exporter": "python",
   "pygments_lexer": "ipython3",
   "version": "3.11.5"
  },
  "orig_nbformat": 4
 },
 "nbformat": 4,
 "nbformat_minor": 2
}
