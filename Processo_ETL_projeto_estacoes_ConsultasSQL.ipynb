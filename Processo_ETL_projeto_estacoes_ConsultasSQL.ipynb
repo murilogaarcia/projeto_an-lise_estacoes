{
 "cells": [
  {
   "cell_type": "markdown",
   "metadata": {},
   "source": [
    "PROJETO GESTÃO E ANÁLISE DE ESTAÇÕES DE CARREGAMENTO DE CARROS ELÉTRICOS:\n",
    "\n",
    "O projeto consiste em importar, tratar e analisar dados de estações elétricas e veículos, com visualizações em Power BI.\n",
    "Etapas:\n",
    "\n",
    "1-Importação: carregar dados do Excel para Python.\n",
    "\n",
    "2-Tratamento: limpar nulos, padronizar colunas e tipos.\n",
    "\n",
    "3-SQL: criar tabelas e inserir dados mantendo integridade.\n",
    "\n",
    "3-Análise: consultas SQL para insights.\n",
    "\n",
    "4-Dashboard: criar visualizações interativas no Power BI."
   ]
  },
  {
   "cell_type": "code",
   "execution_count": null,
   "metadata": {
    "vscode": {
     "languageId": "plaintext"
    }
   },
   "outputs": [],
   "source": [
    "\"\"\"create database estacoes_database_oficial;\n",
    "\n",
    "-- ==============================\n",
    "-- Tabela principal: PAISES_INFOS\n",
    "-- ==============================\n",
    "CREATE TABLE paises_infos (\n",
    "    id INT PRIMARY KEY,\n",
    "    sigla VARCHAR(50),\n",
    "    qtd_estacoes INT\n",
    ");\n",
    "\n",
    "-- ==============================\n",
    "-- Tabela: ESTACOES\n",
    "-- ==============================\n",
    "CREATE TABLE estacoes (\n",
    "    id_estacao INT PRIMARY KEY,\n",
    "    nome_local VARCHAR(255),\n",
    "    cidade VARCHAR(250),\n",
    "    sigla VARCHAR(50),\n",
    "    estado VARCHAR(250),\n",
    "    latitude FLOAT,\n",
    "    longitude FLOAT,\n",
    "    qtd_portas FLOAT,\n",
    "    potencia FLOAT,\n",
    "    potencia_categoria VARCHAR(250),\n",
    "    carregamento_rapido VARCHAR(250),\n",
    "    id INT REFERENCES paises_infos(id),\n",
    "    tipo_corrente VARCHAR(250),\n",
    "    potencia_categoria_traduzida VARCHAR(250)\n",
    "    \n",
    ");\n",
    "\n",
    "-- ==============================\n",
    "-- Tabela: VEICULOS\n",
    "-- ==============================\n",
    "CREATE TABLE veiculos (\n",
    "    id_veiculo INT PRIMARY KEY,\n",
    "    fabricante VARCHAR(250),\n",
    "    modelo VARCHAR(250),\n",
    "    regiao_mercado VARCHAR(250),\n",
    "    tipo_motor VARCHAR(250),\n",
    "    first_year INT,\n",
    "    carro_categoria VARCHAR(250),\n",
    "    sigla VARCHAR(50),\n",
    "    id INT REFERENCES paises_infos(id),\n",
    "    country_code VARCHAR(50)\n",
    ");\n",
    "\n",
    "-- ==============================\n",
    "-- Tabela: PAISES\n",
    "-- ==============================\n",
    "CREATE TABLE paises (\n",
    "    sigla VARCHAR(50),\n",
    "    pais VARCHAR(250),\n",
    "    qtd_estacoes INT,\n",
    "    potencia_max_estacao FLOAT,\n",
    "    id INT REFERENCES paises_infos(id)\n",
    ");\n",
    "\n",
    "select * from paises_infos\n",
    "select * from estacoes\n",
    "select * from veiculos\n",
    "select * from paises\"\"\""
   ]
  }
 ],
 "metadata": {
  "kernelspec": {
   "display_name": "venv",
   "language": "python",
   "name": "python3"
  },
  "language_info": {
   "codemirror_mode": {
    "name": "ipython",
    "version": 3
   },
   "file_extension": ".py",
   "mimetype": "text/x-python",
   "name": "python",
   "nbconvert_exporter": "python",
   "pygments_lexer": "ipython3",
   "version": "3.11.5"
  },
  "orig_nbformat": 4
 },
 "nbformat": 4,
 "nbformat_minor": 2
}
